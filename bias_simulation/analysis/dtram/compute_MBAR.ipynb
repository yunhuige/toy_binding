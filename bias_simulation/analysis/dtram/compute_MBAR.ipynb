{
 "cells": [
  {
   "cell_type": "code",
   "execution_count": null,
   "metadata": {
    "collapsed": true
   },
   "outputs": [],
   "source": [
    "from tools_box import *\n",
    "import pymbar\n",
    "from pymbar import timeseries\n",
    "from pymbar import MBAR\n"
   ]
  },
  {
   "cell_type": "code",
   "execution_count": null,
   "metadata": {
    "collapsed": true
   },
   "outputs": [],
   "source": [
    "stride = [10,100,1000]  # strides of data extraction\n",
    "nstates = [10,30,50,100,200]  # number of clustered states\n",
    "bin_min = 0.0      \n",
    "bin_max = 0.8"
   ]
  },
  {
   "cell_type": "code",
   "execution_count": null,
   "metadata": {
    "collapsed": true
   },
   "outputs": [],
   "source": [
    "# let's reshape the u_kn file and delete duplicate ensembles\n",
    "\n",
    "for i in range(len(stride)):\n",
    "    ukn=np.load('../dataset/frames_%d/u_kn.npy'%(int(200000./stride[i])))\n",
    "    new_ukn=[]\n",
    "    for i in range(88):   # first 88 ensembles with harmonic restraints + lambdas (push+pull)\n",
    "        new_ukn.append(ukn[i])\n",
    "    for i in range(176,187):  # last 11 ensembles with lambdas only\n",
    "        new_ukn.append(ukn[i])\n",
    "    np.save('../dataset/frames_%d/sub_ukn.npy'%(int(200000./stride[i])),new_ukn)"
   ]
  },
  {
   "cell_type": "code",
   "execution_count": null,
   "metadata": {
    "collapsed": true
   },
   "outputs": [],
   "source": [
    "for i in range(len(stride)):\n",
    "        for j in range(len(nstates)):\n",
    "\n",
    "                dx = (bin_max-bin_min)/nstates[j]\n",
    "                pmf_distances = np.arange(bin_min,bin_max+dx,dx)\n",
    "                bincenters = (pmf_distances[0:-1] + pmf_distances[1:])/2.0\n",
    "                print pmf_distances\n",
    "                print bincenters\n",
    "                u_kn = np.load('../dataset/frames_%d/sub_ukn.npy'%(int(200000./stride[i])))   # dimension: (# of thermodynamic states, number of thermodynamic states * number of frames for each ensemble)\n",
    "                # number of ensembles = 11 * 8 + 11 = 99\n",
    "                print u_kn.shape[1]\n",
    "                distance = np.load('../dataset/frames_%d/distance_sub.npy'%(int(200000./stride[i])))  # raw distance file\n",
    "                dis = []\n",
    "                for k in range(len(distance)):\n",
    "                        for l in distance[k]:\n",
    "                                dis.append(l)\n",
    "                dis = np.array(dis)\n",
    "                reshape_dis = dis.reshape(1,u_kn.shape[1])  # reshape it to the dimension of 1*total frames of all ensembles\n",
    "                K = u_kn.shape[0]    # K = 99 in this case\n",
    "                nsnaps = distance.shape[-1]  # total number of frames\n",
    "                N_k = []\n",
    "                # number of frames of first 88 ensembles with harmonic restraint, pull + push yields 2 directions and duplicate thermodynamic ensembles and needs to be combined\n",
    "                for m in range(88):\n",
    "                        N_k.append((int(200000./stride[i])+1)*2)  \n",
    "                # number of frames of last 11 ensembles with no harmonic restraint and lambda only\n",
    "                for n in range(11):\n",
    "                        N_k.append(int(200000./stride[i])+1)\n",
    "                N_k = np.array(N_k)\n",
    "                #print N_k\n",
    "                #print len(N_k)\n",
    "                print sum(N_k)   # total number of frames, should be equal to u_kn.shape[-1]\n",
    "                u_kn -= u_kn.min()   \n",
    "                bin_kn = np.zeros(reshape_dis.shape,np.int64)\n",
    "                for p in range(reshape_dis.shape[1]):\n",
    "                        bin_kn[0,p] = distance2bin(reshape_dis[0,p],bincenters)   # assign each frames based on 1D bins\n",
    "                bin_kn = np.array(bin_kn[0])\n",
    "\n",
    "                mbar = MBAR(u_kn, N_k, verbose=True)\n",
    "                for q in range(u_kn.shape[0]):  # number of ensembles\n",
    "                        print q\n",
    "                        (f_i, df_i) = mbar.computePMF(u_kn[q], bin_kn, nstates[j])\n",
    "                        print f_i, df_i\n",
    "                        fout = open('states_%d/frames_%d/mbar_%d_sub.dat'%(nstates[j],int(200000./stride[i]),q),'w')\n",
    "                        fout.write('# distance (nm)\\tf (kT)\\tdf (kT)\\n')\n",
    "                        for r in range(nstates[j]):\n",
    "                                fout.write(\"%8.4f\\t%8.4f\\t%8.4f\\n\" % (bincenters[r], f_i[r], df_i[r]) )\n",
    "                        fout.close()\n",
    "                        print 'Wrote'\n"
   ]
  }
 ],
 "metadata": {
  "kernelspec": {
   "display_name": "Python 2",
   "language": "python",
   "name": "python2"
  },
  "language_info": {
   "codemirror_mode": {
    "name": "ipython",
    "version": 2
   },
   "file_extension": ".py",
   "mimetype": "text/x-python",
   "name": "python",
   "nbconvert_exporter": "python",
   "pygments_lexer": "ipython2",
   "version": "2.7.12"
  }
 },
 "nbformat": 4,
 "nbformat_minor": 0
}
