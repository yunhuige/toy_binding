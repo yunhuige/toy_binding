{
 "cells": [
  {
   "cell_type": "code",
   "execution_count": null,
   "metadata": {
    "collapsed": true
   },
   "outputs": [],
   "source": [
    "import sys, os\n",
    "import numpy as np"
   ]
  },
  {
   "cell_type": "code",
   "execution_count": null,
   "metadata": {
    "collapsed": true
   },
   "outputs": [],
   "source": [
    "all_stride = [10,100,1000,10000]\n",
    "all_nstates = [10,30,50,100,200]\n"
   ]
  },
  {
   "cell_type": "code",
   "execution_count": null,
   "metadata": {
    "collapsed": true
   },
   "outputs": [],
   "source": [
    "for s in range(len(all_stride)):\n",
    "        for n in range(len(all_nstates)):\n",
    "                stride = all_stride[s]\n",
    "                nstates = all_nstates[n]\n",
    "                print 'stride', stride, 'nstates', nstates\n",
    "\n",
    "                bias = np.zeros((187,nstates))   # 11*8*2+11\n",
    "                unbias = np.loadtxt('states_%d/frames_%d/mbar_98_sub.dat'%(nstates,int(200000./stride)))   # the unbiased ensemble\n",
    "                for i in range(88):     # 11*8\n",
    "                        pmf = np.loadtxt('states_%d/frames_%d/mbar_%d_sub.dat'%(nstates,(int(200000./stride)),i))\n",
    "                        for j in range(1,len(pmf)):    # the 0th line is the header not the actual data\n",
    "                                bias[i,j] = pmf[j][1] - unbias[j][1]    # ensembles of pulling+lambda\n",
    "                                bias[i+88,j] = pmf[j][1] - unbias[j][1]   # ensembles of pushing+lambda\n",
    "                                \n",
    "                for i in range(88,99):   # ensembles of lambda only biased simulations\n",
    "                        pmf = np.loadtxt('states_%d/frames_%d/mbar_%d_sub.dat'%(nstates,(int(200000./stride)),i))\n",
    "                        for j in range(1,len(pmf)):\n",
    "                                bias[i+88,j] = pmf[j][1] - unbias[j][1]\n",
    "\n",
    "                np.save('states_%d/frames_%d/bias.npy'%(nstates,int(200000./stride)),bias)\n"
   ]
  }
 ],
 "metadata": {
  "kernelspec": {
   "display_name": "Python 2",
   "language": "python",
   "name": "python2"
  },
  "language_info": {
   "codemirror_mode": {
    "name": "ipython",
    "version": 2
   },
   "file_extension": ".py",
   "mimetype": "text/x-python",
   "name": "python",
   "nbconvert_exporter": "python",
   "pygments_lexer": "ipython2",
   "version": "2.7.12"
  }
 },
 "nbformat": 4,
 "nbformat_minor": 0
}
