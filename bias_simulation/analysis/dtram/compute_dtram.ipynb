{
 "cells": [
  {
   "cell_type": "code",
   "execution_count": null,
   "metadata": {
    "collapsed": true
   },
   "outputs": [],
   "source": [
    "import sys, os\n",
    "import numpy as np\n",
    "from pyemma.thermo import dtram\n",
    "from pyemma import msm\n",
    "import pyemma"
   ]
  },
  {
   "cell_type": "code",
   "execution_count": null,
   "metadata": {
    "collapsed": true
   },
   "outputs": [],
   "source": [
    "all_stride = [10,100,1000]\n",
    "all_nstates = [10,30,50,100,200]"
   ]
  },
  {
   "cell_type": "code",
   "execution_count": null,
   "metadata": {
    "collapsed": true
   },
   "outputs": [],
   "source": [
    "for s in range(len(all_stride)):\n",
    "        for n in range(len(all_nstates)):\n",
    "                stride = all_stride[s]\n",
    "                nstates = all_nstates[n]\n",
    "                interval = 0.002*stride  # in ns (frames were saved every 2 ps)\n",
    "                bin_min = 0.0     # first umbrella\n",
    "                bin_max = 0.8     # last umbrella\n",
    "                dx=(bin_max-bin_min)/nstates\n",
    "                pmf_distances=np.arange(bin_min,bin_max+dx,dx)\n",
    "                bincenters = (pmf_distances[0:-1]+pmf_distances[1:])/2.0\n",
    "                # print pmf_distances\n",
    "                # print bincenters\n",
    "\n",
    "                assign = np.load('states_%d/frames_%d/clustered_matrix.npy'%(nstates,int(200000./stride)))  # assignment\n",
    "                K = assign.shape[0] # termodynamic states\n",
    "                if stride == 10000:\n",
    "                        lagtimes = np.array([1,2,3,4,5,6,7,8,9,10])\n",
    "                elif stride == 1000:\n",
    "                        lagtimes = np.array([1,5,10,20,30,40,50,80,100])\n",
    "                elif stride == 100:\n",
    "                        lagtimes = np.array([1,15,50,100,200,300,400,500,800,1000])\n",
    "                elif stride == 10:\n",
    "                        lagtimes = np.array([1,20,50,100,200,500,800,1000,2000,3000,4000,5000,6000,7000,8000,10000])\n",
    "                \n",
    "                # let's load pre-computed bias\n",
    "                bias = np.load('states_%d/frames_%d/bias.npy'%(nstates,int(200000./stride)))\n",
    "\n",
    "                total_its = []\n",
    "                bootstrap = False\n",
    "\n",
    "                # this part is wrong and still needs to be fixed\n",
    "                if bootstrap:\n",
    "                        fold = 5\n",
    "                        st = int(assign.shape[1]/fold)\n",
    "                        for i in range(fold):\n",
    "                                if i != fold-1:\n",
    "                                        ass = np.concatenate((assign[:,:st*(i+1)],assign[:,st*(i+1)+st:]),axis=1)\n",
    "                                else:\n",
    "                                        ass = assign[:,st:]\n",
    "                                ttrajs = []\n",
    "                                dtrajs = []\n",
    "                                for k in range(K):\n",
    "                                        ttrajs.append(k*np.ones(ass.shape[1],dtype=int))\n",
    "                                        dtrajs.append(ass[k])\n",
    "\n",
    "                                motion = 4\n",
    "                                dtram_obj = dtram(ttrajs, dtrajs, bias, lagtimes, unbiased_state=int(assign.shape[0])-1) # the unbiased ensemble is the last one\n",
    "\n",
    "                                its=[[] for m in range(motion)]\n",
    "                                for j in range(len(lagtimes)):\n",
    "                                        time = dtram_obj[j].msm.timescales(motion)\n",
    "                                        for l in range(motion):\n",
    "                                                its[l].append(time[l])\n",
    "                                total_its.append(its)\n",
    "\n",
    "                        np.save('states_%d/frames_%d/total_its.npy'%(nstates,int(200000./stride)),total_its)\n",
    "\n",
    "                # this part is finished\n",
    "                else:\n",
    "                        ttrajs = []    # create empty list of ttrajs\n",
    "                        dtrajs = []    # create empty list of dtrajs\n",
    "                        for k in range(K):   # K is the total number of thermodynamic states\n",
    "                                ttrajs.append(k*np.ones(assign.shape[1],dtype=int))  # e.g. [[0,0,0,...],[1,1,1,1,...],...]\n",
    "                                dtrajs.append(assign[k])     # the actual trajectory (clustered)\n",
    "                        motion = 4    # 4 slow motions to compute\n",
    "                        dtram_obj = dtram(ttrajs, dtrajs, bias, lagtimes, unbiased_state=int(assign.shape[0])-1) # the unbiased ensemble is the last one\n",
    "                        its=[[] for m in range(motion)]    # create implited timescales list for slow motions\n",
    "                        eigenvector = []   # create list of eigenvectors\n",
    "                        for j in range(len(lagtimes)):\n",
    "                                time = dtram_obj[j].msm.timescales(motion)   # compute implied timscales for a given lag time\n",
    "                                ev = dtram_obj[j].msm.eigenvectors_right()   # compute right eigenvectors for a given lag time\n",
    "                                for l in range(motion):\n",
    "                                        its[l].append(time[l])\n",
    "                                eigenvector.append(ev)\n",
    "                        np.save('states_%d/frames_%d/its.npy'%(nstates,int(200000./stride)),its)\n",
    "                        np.save('states_%d/frames_%d/eigenvector.npy'%(nstates,int(200000./stride)),eigenvector)\n",
    "                        import matplotlib\n",
    "                        matplotlib.use('Agg')\n",
    "                        from matplotlib import pyplot as plt\n",
    "                        plt.figure()\n",
    "                        for m in range(motion):\n",
    "                                plt.plot(interval*lagtimes,[n*interval for n in its[m]])\n",
    "                        plt.xlabel('lagtime (ns)')\n",
    "                        plt.ylabel('implied timescale (ns)')\n",
    "                        plt.yscale('log')\n",
    "                        plt.savefig('states_%d/frames_%d/implied_timescales.pdf'%(nstates,int(200000./stride)))\n",
    "                        plt.close()\n"
   ]
  }
 ],
 "metadata": {
  "kernelspec": {
   "display_name": "Python 2",
   "language": "python",
   "name": "python2"
  },
  "language_info": {
   "codemirror_mode": {
    "name": "ipython",
    "version": 2
   },
   "file_extension": ".py",
   "mimetype": "text/x-python",
   "name": "python",
   "nbconvert_exporter": "python",
   "pygments_lexer": "ipython2",
   "version": "2.7.12"
  }
 },
 "nbformat": 4,
 "nbformat_minor": 0
}
