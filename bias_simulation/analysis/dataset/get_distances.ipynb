{
 "cells": [
  {
   "cell_type": "code",
   "execution_count": null,
   "metadata": {
    "collapsed": true
   },
   "outputs": [],
   "source": [
    "import sys, os\n",
    "import numpy as np"
   ]
  },
  {
   "cell_type": "code",
   "execution_count": null,
   "metadata": {
    "collapsed": true
   },
   "outputs": [],
   "source": [
    "umbrella = np.arange(0.0,0.8,0.1)\n",
    "lambdas = np.arange(0.0,1.05,0.05)\n",
    "rvalues = []\n",
    "sub_rvalues=[]\n",
    "\n",
    "for k in range(2):\n",
    "    for i in umbrella:\n",
    "        for j in range(len(lambdas)):\n",
    "                rvalues.append(i)\n",
    "for j in range(len(lambdas)):\n",
    "    rvalues.append(float(-1))\n",
    "sub_rvalues=[]\n",
    "for i in range(17):\n",
    "    for j in range(10,21):\n",
    "        sub_rvalues.append(j+i*21)\n",
    "\n",
    "print sub_rvalues\n"
   ]
  },
  {
   "cell_type": "code",
   "execution_count": null,
   "metadata": {
    "collapsed": true
   },
   "outputs": [],
   "source": [
    "stride = 1\n",
    "distance=[]\n",
    "for i in sub_rvalues:\n",
    "    if i <= 335:   # ensembles with harmonic restraints and lambdas: 21*8*2 = 0th - 335th ensembles\n",
    "        traj=np.load('RUN%d/distance.npy'%i)[::stride]\n",
    "        distance.append(traj)\n",
    "    else:    # ensembles with lambda only\n",
    "        traj=np.load('special/RUN%d/distance.npy'%(i-336))[::stride]\n",
    "        distance.append(traj)\n",
    "np.save('frames_%d/distance_sub.npy'%(int(200000./stride)),distance)\n"
   ]
  }
 ],
 "metadata": {
  "kernelspec": {
   "display_name": "Python 2",
   "language": "python",
   "name": "python2"
  },
  "language_info": {
   "codemirror_mode": {
    "name": "ipython",
    "version": 2
   },
   "file_extension": ".py",
   "mimetype": "text/x-python",
   "name": "python",
   "nbconvert_exporter": "python",
   "pygments_lexer": "ipython2",
   "version": "2.7.12"
  }
 },
 "nbformat": 4,
 "nbformat_minor": 0
}
