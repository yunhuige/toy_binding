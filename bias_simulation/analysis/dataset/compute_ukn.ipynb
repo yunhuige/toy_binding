{
 "cells": [
  {
   "cell_type": "code",
   "execution_count": null,
   "metadata": {
    "collapsed": true
   },
   "outputs": [],
   "source": [
    "import sys, os\n",
    "import numpy as np"
   ]
  },
  {
   "cell_type": "code",
   "execution_count": null,
   "metadata": {
    "collapsed": true
   },
   "outputs": [],
   "source": [
    "def compute_bias(x1, x2, xi, k):\n",
    "    \"\"\"\n",
    "    Parameters:\n",
    "    x1    first bias potential position (nm)\n",
    "    x2    second bias potential position (nm)\n",
    "    xi    snapshots position (nm)\n",
    "    k     bias potential (kJ mol^-1 nm^-2)\n",
    "    \"\"\"\n",
    "    b0 = k*0.5*((x1 - xi)**2.)\n",
    "    b1 = k*0.5*((x2 - xi)**2.)\n",
    "    return b0-b1\n"
   ]
  },
  {
   "cell_type": "code",
   "execution_count": null,
   "metadata": {
    "collapsed": true
   },
   "outputs": [],
   "source": [
    "temperature = 300.\n",
    "kB = 1.381e-23 * 6.022e23 / 1000.0 # Boltzmann constant in kJ/mol/K\n",
    "beta = 1.0 / (kB * temperature) # inverse temperature of simulations (in 1/(kJ/mol))\n",
    "\n",
    "umbrella = np.arange(0.0,0.8,0.1)\n",
    "lambdas = np.arange(0.0,1.05,0.05)\n",
    "rvalues = []\n",
    "lams = []\n",
    "for k in range(2):    # 2 directions: pull + push\n",
    "    for i in umbrella:\n",
    "        for j in range(len(lambdas)):\n",
    "                rvalues.append(i)\n",
    "for j in range(len(lambdas)):   # no harmonic restraints ensembles\n",
    "    rvalues.append(float(-1))\n",
    "for k in range(2):    # 2 directions: pull + push\n",
    "    for i in range(len(umbrella)):\n",
    "        for j in range(len(lambdas)):\n",
    "            lams.append(j)\n",
    "for j in range(len(lambdas)):    # no harmonic restraints ensembles\n",
    "    lams.append(j)\n",
    "sub_rvalues=[]\n",
    "for i in range(17):      # only the second half lambdas ensembles 11*8*2+11\n",
    "    for j in range(10,21):\n",
    "        sub_rvalues.append(j+i*21)\n"
   ]
  },
  {
   "cell_type": "code",
   "execution_count": null,
   "metadata": {
    "collapsed": true
   },
   "outputs": [],
   "source": [
    "K = len(sub_rvalues)   # number of ensembles in total\n",
    "stride = 1000\n",
    "os.system('mkdir frames_%d/'%(int(200000./stride)))\n",
    "rang = np.arange(0, 200001, stride)  # number of frames of each ensemble\n",
    "N = len(rang)\n",
    "u_kn = np.zeros((K,N*K), np.float64)\n",
    "for k in range(K):\n",
    "    if k <= 175:   # ensemble with harmonic restraints and lambdas 0th - 175th : 11*8*2\n",
    "        print 'k', k\n",
    "        for l in range(K):\n",
    "            if l <= 175:   # ensemble with harmonic restraints and lambdas (0th-175th)\n",
    "                print 'l', l\n",
    "                print 'RUN', sub_rvalues[l]\n",
    "                traj = np.load('RUN%d/distance.npy'%sub_rvalues[l])[::stride]\n",
    "                filename='RUN%d/dhdl.xvg'%sub_rvalues[l]\n",
    "                dhdl=[]\n",
    "                energy=[]\n",
    "                with open(filename) as f:\n",
    "                    lines=f.readlines()\n",
    "                filename1 = 'RUN%d/energy.xvg'%sub_rvalues[l]\n",
    "                with open(filename1) as f1:\n",
    "                    lines1=f1.readlines()\n",
    "                for line in rang:\n",
    "                    dhdl.append(lines[line].strip().split())\n",
    "                    energy.append(lines1[line].strip().split())\n",
    "\n",
    "\n",
    "                for n in range(N):\n",
    "                    u = float(dhdl[n][2:][int(lams[sub_rvalues[k]])])\n",
    "\n",
    "                    u_kn[k,n+N*l] = (compute_bias(rvalues[sub_rvalues[k]],rvalues[sub_rvalues[l]],traj[n],200.) + u) * beta\n",
    "            else:   # ensembles with lambdas only\n",
    "                print 'no umbrella', l\n",
    "                print 'RUN', sub_rvalues[l]\n",
    "                traj = np.load('special/RUN%d/distance.npy'%(sub_rvalues[l]-336))[::stride]\n",
    "                filename='special/RUN%d/dhdl.xvg'%(sub_rvalues[l]-336)\n",
    "                dhdl=[]\n",
    "                with open(filename) as f:\n",
    "                    lines=f.readlines()\n",
    "                for line in rang:\n",
    "                    dhdl.append(lines[line].strip().split())\n",
    "                for n in range(N):\n",
    "                    u = float(dhdl[n][2:][int(lams[sub_rvalues[k]])])\n",
    "                    u_kn[k,n+N*l] = (compute_bias(rvalues[sub_rvalues[k]],traj[n],traj[n],200.) + u) * beta\n",
    "    else:    # ensembles with lambdas only\n",
    "        print 'k', k\n",
    "        for l in range(K):\n",
    "            if l <= 175:     # ensemble with harmonic restraints and lambdas (0th-175th)\n",
    "                print 'l', l\n",
    "                print 'RUN', sub_rvalues[l]\n",
    "                traj = np.load('RUN%d/distance.npy'%sub_rvalues[l])[::stride]\n",
    "                filename='RUN%d/dhdl.xvg'%sub_rvalues[l]\n",
    "                dhdl=[]\n",
    "                with open(filename) as f:\n",
    "                    lines=f.readlines()\n",
    "                for line in rang:\n",
    "                    dhdl.append(lines[line].strip().split())\n",
    "                for n in range(N):\n",
    "                    u = float(dhdl[n][2:][int(lams[sub_rvalues[k]])])\n",
    "                    u_kn[k,n+N*l] =  u * beta\n",
    "\n",
    "            else:   # ensembles with lambdas only\n",
    "                print 'no umbrella', l\n",
    "                print 'RUN', sub_rvalues[l]\n",
    "                traj = np.load('special/RUN%d/distance.npy'%(sub_rvalues[l]-336))[::stride]\n",
    "                filename='special/RUN%d/dhdl.xvg'%(sub_rvalues[l]-336)\n",
    "                dhdl=[]\n",
    "                with open(filename) as f:\n",
    "                    lines=f.readlines()\n",
    "                for line in rang:\n",
    "                    dhdl.append(lines[line].strip().split())\n",
    "                for n in range(N):\n",
    "                    u = float(dhdl[n][2:][int(lams[sub_rvalues[k]])])\n",
    "                    u_kn[k,n+N*l] = u * beta\n",
    "\n",
    "np.save('frames_%d/u_kn.npy'%(int(200000./stride)),u_kn)\n"
   ]
  }
 ],
 "metadata": {
  "kernelspec": {
   "display_name": "Python 2",
   "language": "python",
   "name": "python2"
  },
  "language_info": {
   "codemirror_mode": {
    "name": "ipython",
    "version": 2
   },
   "file_extension": ".py",
   "mimetype": "text/x-python",
   "name": "python",
   "nbconvert_exporter": "python",
   "pygments_lexer": "ipython2",
   "version": "2.7.12"
  }
 },
 "nbformat": 4,
 "nbformat_minor": 0
}
