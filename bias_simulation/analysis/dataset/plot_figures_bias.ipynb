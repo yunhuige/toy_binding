{
 "cells": [
  {
   "cell_type": "code",
   "execution_count": 2,
   "metadata": {
    "collapsed": true
   },
   "outputs": [],
   "source": [
    "import sys, os\n",
    "import numpy as np\n"
   ]
  },
  {
   "cell_type": "code",
   "execution_count": 14,
   "metadata": {
    "collapsed": false
   },
   "outputs": [
    {
     "name": "stdout",
     "output_type": "stream",
     "text": [
      "187\n",
      "[10, 11, 12, 13, 14, 15, 16, 17, 18, 19, 20, 31, 32, 33, 34, 35, 36, 37, 38, 39, 40, 41, 52, 53, 54, 55, 56, 57, 58, 59, 60, 61, 62, 73, 74, 75, 76, 77, 78, 79, 80, 81, 82, 83, 94, 95, 96, 97, 98, 99, 100, 101, 102, 103, 104, 115, 116, 117, 118, 119, 120, 121, 122, 123, 124, 125, 136, 137, 138, 139, 140, 141, 142, 143, 144, 145, 146, 157, 158, 159, 160, 161, 162, 163, 164, 165, 166, 167, 178, 179, 180, 181, 182, 183, 184, 185, 186, 187, 188, 199, 200, 201, 202, 203, 204, 205, 206, 207, 208, 209, 220, 221, 222, 223, 224, 225, 226, 227, 228, 229, 230, 241, 242, 243, 244, 245, 246, 247, 248, 249, 250, 251, 262, 263, 264, 265, 266, 267, 268, 269, 270, 271, 272, 283, 284, 285, 286, 287, 288, 289, 290, 291, 292, 293, 304, 305, 306, 307, 308, 309, 310, 311, 312, 313, 314, 325, 326, 327, 328, 329, 330, 331, 332, 333, 334, 335, 346, 347, 348, 349, 350, 351, 352, 353, 354, 355, 356]\n"
     ]
    }
   ],
   "source": [
    "umbrella = np.arange(0.0,0.8,0.1)\n",
    "lambdas = np.arange(0.0,1.05,0.05)\n",
    "rvalues = []\n",
    "lams = []\n",
    "\n",
    "for k in range(2):\n",
    "    for i in umbrella:\n",
    "        for j in range(len(lambdas)):\n",
    "            rvalues.append(i)\n",
    "for j in range(len(lambdas)):\n",
    "    rvalues.append(float(-1))\n",
    "\n",
    "for k in range(2):\n",
    "    for i in range(len(umbrella)):\n",
    "        for j in range(len(lambdas)):\n",
    "            lams.append(j)\n",
    "for j in range(len(lambdas)):\n",
    "    lams.append(j)\n",
    "sub_rvalues=[]\n",
    "for i in range(17):\n",
    "    for j in range(10,21):\n",
    "        sub_rvalues.append(j+i*21)\n",
    "print len(sub_rvalues)\n",
    "print sub_rvalues\n"
   ]
  },
  {
   "cell_type": "code",
   "execution_count": 19,
   "metadata": {
    "collapsed": false
   },
   "outputs": [
    {
     "name": "stdout",
     "output_type": "stream",
     "text": [
      "stride 1\n",
      "distance.shape (187, 200001)\n",
      "stride 10\n",
      "distance.shape (187, 20001)\n",
      "stride 100\n",
      "distance.shape (187, 2001)\n",
      "stride 1000\n",
      "distance.shape (187, 201)\n",
      "Done!\n"
     ]
    }
   ],
   "source": [
    "strides = [1,10,100,1000]\n",
    "ns_per_frame = 0.002 # 2 ps\n",
    "\n",
    "# let's plot traces of each trajectory\n",
    "from matplotlib import pyplot as plt\n",
    "%matplotlib inline\n",
    "\n",
    "for i in range(len(strides)):\n",
    "    stride = strides[i]\n",
    "    print \"stride\", stride\n",
    "    distance = np.load('frames_%d/distance_sub.npy'%(int(200000./stride)))\n",
    "    print \"distance.shape\", distance.shape\n",
    "    for j in range(distance.shape[0]):\n",
    "        x=np.arange(0,400+ns_per_frame*stride,ns_per_frame*stride)  # total length 400 ns for each trajectory\n",
    "        #print len(x)\n",
    "        plt.plot(x,distance[j])\n",
    "        plt.xlabel('time (ns)')\n",
    "        plt.ylabel('distance (nm)')\n",
    "        plt.title('umbrella %.1f, lambda %d'%(rvalues[sub_rvalues[j]],lams[sub_rvalues[j]]))\n",
    "        plt.savefig('frames_%d/trace_%d.pdf'%(int(200000./stride),sub_rvalues[j]))\n",
    "        #plt.show()\n",
    "        plt.close()\n",
    "print \"Done!\""
   ]
  },
  {
   "cell_type": "code",
   "execution_count": 20,
   "metadata": {
    "collapsed": false
   },
   "outputs": [
    {
     "name": "stdout",
     "output_type": "stream",
     "text": [
      "stride 1\n",
      "distance.shape (187, 200001)\n",
      "stride 10\n",
      "distance.shape (187, 20001)\n",
      "stride 100\n",
      "distance.shape (187, 2001)\n",
      "stride 1000\n",
      "distance.shape (187, 201)\n",
      "Done!\n"
     ]
    }
   ],
   "source": [
    "# let's plot histogram of each trajectory\n",
    "from matplotlib import pyplot as plt\n",
    "%matplotlib inline\n",
    "\n",
    "for i in range(len(strides)):\n",
    "    stride = strides[i]\n",
    "    print \"stride\", stride\n",
    "    distance = np.load('frames_%d/distance_sub.npy'%(int(200000./stride)))\n",
    "    print \"distance.shape\", distance.shape\n",
    "    for j in range(distance.shape[0]):\n",
    "        counts, bins = np.histogram(distance[j], bins=np.arange(0,0.8,0.01) )\n",
    "        bincenters = (bins[0:-1]+bins[1:])/2.0\n",
    "        plt.plot(bincenters, counts)\n",
    "        plt.xlabel('distance (nm)')\n",
    "        plt.ylabel('pop')\n",
    "        plt.yticks([])\n",
    "        plt.savefig('frames_%d/histogram_%d.pdf'%(int(200000./stride),sub_rvalues[j]))\n",
    "        #plt.show()\n",
    "        plt.close()\n",
    "print \"Done!\""
   ]
  },
  {
   "cell_type": "code",
   "execution_count": 21,
   "metadata": {
    "collapsed": false
   },
   "outputs": [
    {
     "name": "stdout",
     "output_type": "stream",
     "text": [
      "stride 1\n",
      "stride 10\n",
      "stride 100\n",
      "stride 1000\n",
      "Done!\n"
     ]
    }
   ],
   "source": [
    "# let's plot total histogram \n",
    "from matplotlib import pyplot as plt\n",
    "%matplotlib inline\n",
    "\n",
    "for i in range(len(strides)):\n",
    "    stride = strides[i]\n",
    "    print \"stride\", stride\n",
    "    total = []\n",
    "    distance = np.load('frames_%d/distance_sub.npy'%(int(200000./stride)))\n",
    "    for j in range(distance.shape[0]):\n",
    "        for k in distance[j]:\n",
    "            total.append(k)\n",
    "    counts, bins = np.histogram(total, bins=np.arange(0,0.8,0.01) )\n",
    "    bincenters = (bins[0:-1]+bins[1:])/2.0\n",
    "    plt.plot(bincenters, counts)\n",
    "    plt.xlabel('distance (nm)')\n",
    "    plt.ylabel('pop')\n",
    "    plt.yticks([])\n",
    "    plt.savefig('frames_%d/histogram_total.pdf'%(int(200000./stride)))\n",
    "    #plt.show()\n",
    "    plt.close()\n",
    "print \"Done!\"\n",
    "\n",
    "\n"
   ]
  },
  {
   "cell_type": "code",
   "execution_count": null,
   "metadata": {
    "collapsed": true
   },
   "outputs": [],
   "source": []
  }
 ],
 "metadata": {
  "kernelspec": {
   "display_name": "Python 2",
   "language": "python",
   "name": "python2"
  },
  "language_info": {
   "codemirror_mode": {
    "name": "ipython",
    "version": 2
   },
   "file_extension": ".py",
   "mimetype": "text/x-python",
   "name": "python",
   "nbconvert_exporter": "python",
   "pygments_lexer": "ipython2",
   "version": "2.7.12"
  }
 },
 "nbformat": 4,
 "nbformat_minor": 0
}
