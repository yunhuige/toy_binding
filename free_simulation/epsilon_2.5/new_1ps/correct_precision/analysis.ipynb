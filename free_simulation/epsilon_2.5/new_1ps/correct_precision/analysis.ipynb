{
 "cells": [
  {
   "cell_type": "markdown",
   "metadata": {},
   "source": [
    "First, start from treating pbc using GROMACS."
   ]
  },
  {
   "cell_type": "code",
   "execution_count": null,
   "metadata": {},
   "outputs": [],
   "source": [
    "import sys, os\n",
    "  \n",
    "for i in range(20):\n",
    "    os.chdir('%d'%i)\n",
    "    os.system('echo \"2\\n\" | gmx trjconv -f traj_comp.xtc -n index -o traj_protein.xtc')  # get protein only traj\n",
    "    os.system('echo \"2\\n\" | gmx trjconv -s protein.tpr -f traj_protein.xtc -o pbc_mol.xtc -pbc mol -n index')  # put separate parts back as a whole\n",
    "    os.system('echo \"11\\n 2\\n\" | gmx trjconv -s protein.tpr -f pbc_mol.xtc -n index.ndx -o center.xtc -center')  # center the system\n",
    "    os.chdir('../')\n"
   ]
  },
  {
   "cell_type": "markdown",
   "metadata": {},
   "source": [
    "However, this doesn't work as expected...\n",
    "\n",
    "Then, try following:"
   ]
  },
  {
   "cell_type": "code",
   "execution_count": null,
   "metadata": {},
   "outputs": [],
   "source": [
    "for i in range(20):\n",
    "    os.chdir('%d'%i)\n",
    "    os.system('echo \"2\\n 2\\n\" | gmx trjconv -s protein.tpr -f traj_protein.xtc -o pbc_cluster.xtc -pbc cluster -n index')\n",
    "    os.system('echo \"11\\n 2\\n\" | gmx trjconv -s protein.tpr -f pbc_cluster.xtc -n index.ndx -o cluster_center.xtc -center')\n",
    "    os.chdir('../')\n"
   ]
  },
  {
   "cell_type": "markdown",
   "metadata": {},
   "source": [
    "By loading trajectories in VMD, it seems this protocol works!"
   ]
  },
  {
   "cell_type": "markdown",
   "metadata": {},
   "source": [
    "Now, align these traj based upon the reference structure"
   ]
  },
  {
   "cell_type": "code",
   "execution_count": null,
   "metadata": {},
   "outputs": [],
   "source": [
    "import sys, os\n",
    "import mdtraj as md\n",
    "\n",
    "\n",
    "ref = md.load('new_test.pdb')\n",
    "for i in range(20):\n",
    "    os.chdir('%d'%i)\n",
    "    t=md.load('cluster_center.xtc',top='protein.gro')\n",
    "    t_new = t.superpose(ref)\n",
    "    t_new.save_xtc('aligned_cluster.xtc')\n",
    "    os.chdir('../')\n"
   ]
  },
  {
   "cell_type": "markdown",
   "metadata": {},
   "source": [
    "Now, lets treat pbc again to move from original box to a new box (-1.5,1.5)"
   ]
  },
  {
   "cell_type": "code",
   "execution_count": null,
   "metadata": {},
   "outputs": [],
   "source": [
    "import sys, os\n",
    "import mdtraj as md\n",
    "from matplotlib import pyplot as plt\n",
    "from mdtraj.formats import XTCTrajectoryFile\n",
    "import numpy as np\n",
    "\n",
    "for run in range(20):\n",
    "    print run\n",
    "    os.chdir('%d'%run)\n",
    "    raw = md.load('aligned_cluster.xtc',top='../new_test.pdb')\n",
    "    new_xyz = np.zeros((raw.xyz.shape))\n",
    "    n_frame = raw.xyz.shape[0]\n",
    "    n_atom = raw.xyz.shape[1]\n",
    "    n_coor = raw.xyz.shape[2]\n",
    "\n",
    "    for i in range(n_frame):\n",
    "        for j in range(n_atom):\n",
    "            for k in range(n_coor):\n",
    "                if raw.xyz[i,j,k] > 3.00859/2.:\n",
    "                    while raw.xyz[i,j,k] > 3.00859/2.:\n",
    "                        raw.xyz[i,j,k] = raw.xyz[i,j,k] - 3.00859\n",
    "                    new_xyz[i,j,k] = raw.xyz[i,j,k]\n",
    "                elif raw.xyz[i,j,k] < -3.00859/2.:\n",
    "                    while raw.xyz[i,j,k] < -3.00859/2.:\n",
    "                        raw.xyz[i,j,k] = raw.xyz[i,j,k] + 3.00859\n",
    "                    new_xyz[i,j,k] = raw.xyz[i,j,k]\n",
    "                else:\n",
    "                    new_xyz[i,j,k] = raw.xyz[i,j,k]\n",
    "\n",
    "    with XTCTrajectoryFile('pbc_treat_traj_cluster.xtc','w') as f:\n",
    "        f.write(new_xyz)\n",
    "    np.save('pbc_treat_traj_cluster.npy',new_xyz)\n",
    "    os.chdir('../')\n"
   ]
  },
  {
   "cell_type": "markdown",
   "metadata": {},
   "source": [
    "Let's check if there are any atoms outside the new box."
   ]
  },
  {
   "cell_type": "code",
   "execution_count": null,
   "metadata": {},
   "outputs": [],
   "source": [
    "import sys, os\n",
    "import numpy as np\n",
    "from matplotlib import pyplot as plt\n",
    "\n",
    "data = []\n",
    "\n",
    "for run in range(20):\n",
    "    os.chdir('%d'%run)\n",
    "    t = np.load('pbc_treat_traj_cluster.npy')\n",
    "    for i in range(12):\n",
    "        for j in range(3):\n",
    "            data.append(max(t[:,i][:,j]))   # find max and min values of x,y,z of all atoms in this trajectory\n",
    "            data.append(min(t[:,i][:,j]))\n",
    "    os.chdir('../')\n",
    "np.save('max_min_coord_cluster.npy',data)\n",
    "plt.figure()\n",
    "x = range(len(data))\n",
    "plt.plot([0,max(x)],[3.00859/2.,3.00859/2.],color='red',linestyle='-')\n",
    "plt.plot([0,max(x)],[-3.00859/2.,-3.00859/2.],color='red',linestyle='-')\n",
    "plt.plot(x,data,'o',color='blue')\n",
    "plt.xlabel('data')\n",
    "plt.ylabel('coordinate')\n",
    "plt.savefig('figure_checkpbc_cluster.png')\n"
   ]
  },
  {
   "cell_type": "markdown",
   "metadata": {},
   "source": [
    "Let's also check if r=np.sqrt(x^2.+y^2.+z^2) can be used as a good quantity as distance between the liagnd and the center of mass of the pocket."
   ]
  },
  {
   "cell_type": "code",
   "execution_count": null,
   "metadata": {},
   "outputs": [],
   "source": [
    "import sys, os\n",
    "import mdtraj as md\n",
    "import numpy as np\n",
    "\n",
    "\n",
    "dis_center = [[] for i in range(20)]\n",
    "dis=[[] for i in range(20)]\n",
    "\n",
    "for j in range(20):\n",
    "    t = md.load('%d/pbc_treat_traj_cluster.xtc'%j,top='new_test.pdb')\n",
    "    ind=t.topology.select('(index 0 to 7) or (index 9 to 10)')\n",
    "    ind2 = t.topology.select('index 11')\n",
    "    t1=t.atom_slice(ind)\n",
    "    t2=t.atom_slice(ind2)\n",
    "    com1=md.compute_center_of_mass(t1)\n",
    "    com2=md.compute_center_of_mass(t2)\n",
    "    for i in range(len(com1)):\n",
    "        dis_center[j].append(np.sqrt((com1[i][0]-com2[i][0])**2.0 + (com1[i][1]-com2[i][1])**2.0 + (com1[i][2]-com2[i][2])**2.0))\n",
    "        dis[j].append(np.sqrt(com2[i][0]**2.0+com2[i][1]**2.0+com2[i][2]**2.0))\n",
    "np.save('ligand_dis_com_cluster.npy',dis_center)\n",
    "np.save('ligand_dis_abs_cluster.npy',dis)\n"
   ]
  },
  {
   "cell_type": "markdown",
   "metadata": {},
   "source": [
    "Let's plot the difference of these two types of distances and plot the histogram of the differences."
   ]
  },
  {
   "cell_type": "code",
   "execution_count": null,
   "metadata": {},
   "outputs": [],
   "source": [
    "import sys, os\n",
    "import numpy as np\n",
    "from matplotlib import pyplot as plt\n",
    "\n",
    "abs_dis = np.load('ligand_dis_abs_cluster.npy')\n",
    "com_dis = np.load('ligand_dis_com_cluster.npy')\n",
    "\n",
    "diff = np.zeros((abs_dis.shape))\n",
    "\n",
    "for i in range(len(abs_dis)):\n",
    "    for j in range(len(abs_dis[i])):\n",
    "        diff[i,j] = abs_dis[i][j] - com_dis[i][j]\n",
    "np.save('dis_diff_cluster.npy',diff)\n",
    "plt.figure(figsize=(20,25))\n",
    "for i in range(len(diff)):\n",
    "    print i\n",
    "    plt.subplot(4,5,i+1)\n",
    "    counts,bins = np.histogram(diff[i],bins=np.arange(min(diff[i]),max(diff[i]),0.01))\n",
    "    bincenters = (bins[0:-1]+bins[1:])/2.0\n",
    "    plt.plot(bincenters,counts)\n",
    "    plt.xlabel('diff (nm)',fontsize=5)\n",
    "    plt.yticks([])\n",
    "    plt.xticks(fontsize=5)\n",
    "plt.tight_layout()\n",
    "plt.savefig('diff_cluster.pdf')\n"
   ]
  },
  {
   "cell_type": "markdown",
   "metadata": {},
   "source": [
    "Let's compute distance of the ligand between frames."
   ]
  },
  {
   "cell_type": "code",
   "execution_count": null,
   "metadata": {},
   "outputs": [],
   "source": [
    "import sys, os\n",
    "import numpy as np\n",
    "\n",
    "dis = [[] for i in range(20)]\n",
    "for i in range(20):\n",
    "    os.chdir('%d'%i)\n",
    "    t=np.load('pbc_treat_traj_cluster.npy')\n",
    "    for j in range(len(t)-1):\n",
    "        dis[i].append(np.sqrt((t[:,11][j+1][0]-t[:,11][j][0])**2.0 + (t[:,11][j+1][1]-t[:,11][j][1])**2.0 +(t[:,11][j+1][2]-t[:,11][j][2])**2.0))\n",
    "    os.chdir('../')\n",
    "np.save('fram_distance_cluster.npy',dis)\n"
   ]
  },
  {
   "cell_type": "markdown",
   "metadata": {},
   "source": [
    "Let's take a look at the distribution of these distances between frames."
   ]
  },
  {
   "cell_type": "code",
   "execution_count": null,
   "metadata": {},
   "outputs": [],
   "source": [
    "import sys, os\n",
    "import numpy as np\n",
    "from matplotlib import pyplot as plt\n",
    "\n",
    "dis = np.load('frame_distance_cluster.npy')\n",
    "plt.figure(figsize=(20,25))\n",
    "for i in range(len(dis)):\n",
    "    print i\n",
    "    plt.subplot(4,5,i+1)\n",
    "    counts,bins = np.histogram(dis[i],bins=np.arange(min(dis[i]),max(dis[i]),0.01))\n",
    "    bincenters = (bins[0:-1]+bins[1:])/2.0\n",
    "    plt.plot(bincenters,counts)\n",
    "    plt.xlabel('distance (nm)',fontsize=5)\n",
    "    plt.yticks([])\n",
    "    plt.xticks(fontsize=5)\n",
    "plt.tight_layout()\n",
    "plt.savefig('frame_dis_cluster.pdf')\n",
    "\n",
    "zoom = []\n",
    "\n",
    "for i in range(len(dis)):\n",
    "    for j in range(len(dis[i])):\n",
    "        if dis[i][j] > 2.0:\n",
    "            zoom.append(dis[i][j])\n",
    "plt.figure()\n",
    "counts,bins = np.histogram(zoom,bins=np.arange(2.0,3.1,0.001))\n",
    "bincenters = (bins[0:-1]+bins[1:])/2.0\n",
    "plt.plot(bincenters,counts)\n",
    "plt.xlabel('distance (nm)')\n",
    "plt.savefig('frame_dis_zoom_cluster.pdf')\n"
   ]
  },
  {
   "cell_type": "markdown",
   "metadata": {},
   "source": [
    "From the previous plot, let's find the frames that have large distances (>2.4 nm) which is considered as a crossing box event."
   ]
  },
  {
   "cell_type": "code",
   "execution_count": null,
   "metadata": {},
   "outputs": [],
   "source": [
    "import sys, os\n",
    "import numpy as np\n",
    "\n",
    "dis = np.load('frame_distance_cluster.npy')\n",
    "cross = [[] for i in range(20)]\n",
    "\n",
    "for i in range(len(dis)):\n",
    "    for j in range(len(dis[i])):\n",
    "        if dis[i][j] >= 2.4:\n",
    "            cross[i].append(j+1)\n",
    "np.save('cross_ind_cluster.npy',cross)\n"
   ]
  },
  {
   "cell_type": "markdown",
   "metadata": {},
   "source": [
    "Now, let's separate trajectories into pieces without crossing box event."
   ]
  },
  {
   "cell_type": "code",
   "execution_count": null,
   "metadata": {},
   "outputs": [],
   "source": [
    "import sys, os\n",
    "import numpy as np\n",
    "from itertools import groupby\n",
    "from operator import itemgetter\n",
    "\n",
    "cross = np.load('cross_ind_cluster.npy')\n",
    "cross_new = [[] for i in range(len(cross))]\n",
    "\n",
    "for i in range(len(cross)):\n",
    "    for k, g in groupby(enumerate(cross[i]), lambda (i, x): i-x):\n",
    "        cross_new[i].append(list(map(itemgetter(1),g)))\n",
    "\n",
    "\n",
    "for r in range(20):\n",
    "    print r\n",
    "    traj = np.load('%d/pbc_treat_traj_cluster.npy'%r)\n",
    "    new_traj = []\n",
    "    for i in range(len(cross_new[r])):\n",
    "        if i == 0:\n",
    "            new_traj.append(traj[:,11][0:cross_new[r][i][0]])\n",
    "        elif i == len(cross_new[r])-1:\n",
    "            new_traj.append(traj[:,11][cross_new[r][i][-1]:])\n",
    "        else:\n",
    "            new_traj.append(traj[:,11][(cross_new[r][i-1][-1]+1):cross_new[r][i][0]])\n",
    "    np.save('%d/sep_traj_cluster.npy'%r,new_traj)\n",
    "\n"
   ]
  },
  {
   "cell_type": "markdown",
   "metadata": {},
   "source": [
    "Let's compute r, cos_theta, sin_phi, cos_phi"
   ]
  },
  {
   "cell_type": "code",
   "execution_count": null,
   "metadata": {},
   "outputs": [],
   "source": [
    "import sys, os\n",
    "import numpy as np\n",
    "\n",
    "for i in range(20):\n",
    "    print i\n",
    "    xyz = np.load('%d/sep_traj_cluster.npy'%i)\n",
    "    new_xyz = []\n",
    "    for j in range(len(xyz)):\n",
    "        if len(xyz[j]) >= 20.:\n",
    "            new_xyz.append(xyz[j])\n",
    "    n_traj = len(new_xyz)\n",
    "    spherical = []\n",
    "    for k in range(n_traj):\n",
    "        sphe_sep = np.zeros((len(new_xyz[k]),4))\n",
    "        for l in range(len(new_xyz[k])):\n",
    "            if new_xyz[k][l][0] == 0. and new_xyz[k][l][1] == 0. and new_xyz[k][l][2] == 0.:\n",
    "                r = 0.\n",
    "                cos_theta = 0.\n",
    "                cos_phi = 0.\n",
    "                sin_phi = 0.\n",
    "            else:\n",
    "                r = np.sqrt(new_xyz[k][l][0]**2.+new_xyz[k][l][1]**2.+new_xyz[k][l][2]**2.)\n",
    "                cos_theta = new_xyz[k][l][2]/r\n",
    "                if new_xyz[k][l][0] == 0. and new_xyz[k][l][1] == 0.:\n",
    "                    cos_phi = 0.\n",
    "                    sin_phi = 0.\n",
    "                else:\n",
    "                    cos_phi = new_xyz[k][l][0]/np.sqrt(new_xyz[k][l][0]**2.+new_xyz[k][l][1]**2.)\n",
    "                    sin_phi = new_xyz[k][l][1]/np.sqrt(new_xyz[k][l][0]**2.+new_xyz[k][l][1]**2.)\n",
    "            sphe_sep[l][0] = r\n",
    "            sphe_sep[l][1] = cos_theta\n",
    "            sphe_sep[l][2] = cos_phi\n",
    "            sphe_sep[l][3] = sin_phi\n",
    "        spherical.append(sphe_sep)\n",
    "    np.save('spher/cluster/spher_%d.npy'%i,spherical)\n"
   ]
  },
  {
   "cell_type": "markdown",
   "metadata": {},
   "source": [
    "MSM construction..."
   ]
  },
  {
   "cell_type": "code",
   "execution_count": null,
   "metadata": {},
   "outputs": [],
   "source": [
    "from msmbuilder.featurizer import DihedralFeaturizer\n",
    "from msmbuilder.dataset import dataset\n",
    "import numpy as np\n",
    "from matplotlib import pyplot as plt\n",
    "import mdtraj as md\n",
    "import os,sys, glob\n",
    "import msmbuilder.utils\n",
    "import pickle\n",
    "from msmbuilder.utils import load\n",
    "from msmbuilder.cluster import KMeans\n",
    "from msmbuilder.cluster import KCenters\n",
    "from msmbuilder.cluster import KMedoids\n",
    "from msmbuilder.cluster import MiniBatchKMeans\n",
    "from msmbuilder.msm import implied_timescales\n",
    "from msmbuilder.msm import ContinuousTimeMSM, MarkovStateModel\n",
    "from itertools import combinations\n",
    "from msmbuilder.featurizer import AtomPairsFeaturizer\n",
    "from msmbuilder.decomposition import tICA\n",
    "from sklearn.pipeline import Pipeline\n",
    "from msmbuilder.example_datasets import fetch_met_enkephalin\n",
    "from matplotlib import pyplot as plt\n",
    "from sklearn.externals import joblib\n",
    "\n",
    "distances=[]\n",
    "for i in range(20):\n",
    "        print i\n",
    "        b=np.load('../../spher/cluster/spher_%d.npy'%i)\n",
    "        for j in range(len(b)):\n",
    "            distances.append(b[j])\n",
    "tica_model = tICA(lag_time=5,n_components=4)\n",
    "tica_fit = tica_model.fit(distances)\n",
    "output=open('tica_model.npy','wb')\n",
    "pickle.dump(tica_model,output)\n",
    "output.close()\n",
    "tica_transformed = tica_fit.transform(distances)\n",
    "output=open('tica_eigenvectors.npy','wb')\n",
    "pickle.dump(tica_model.eigenvectors_,output)\n",
    "output.close()\n",
    "np.save('tica.npy',tica_transformed)\n"
   ]
  },
  {
   "cell_type": "markdown",
   "metadata": {},
   "source": [
    "Clustering..."
   ]
  },
  {
   "cell_type": "code",
   "execution_count": null,
   "metadata": {},
   "outputs": [],
   "source": [
    "tica_transformed=np.load('tica.npy')\n",
    "assignments=KCenters(n_clusters=20).fit(tica_transformed)\n",
    "centers=assignments.cluster_centers_\n",
    "np.save('cluster_centers.npy',centers)\n",
    "ass=assignments.transform(tica_transformed)\n",
    "np.save('Assignments.npy',ass)\n",
    "lagtimes = np.array([1,5,10,15,30,100,150,200,300,600,1000,1200,1500,2000,2500,5000,8000,10000,15000,20000, 30000,40000,50000,60000,70000,80000,90000,100000])\n",
    "msmts = []\n",
    "for lagtime in lagtimes:\n",
    "        print \"\\tLagtime: %d\"%lagtime\n",
    "        msm = MarkovStateModel(lag_time=lagtime).fit(ass)\n",
    "        msmts.append(msm.timescales_)\n",
    "np.save('test_msmts.npy', msmts)\n",
    "\n",
    "\n",
    "ns_per_frame = 0.001\n",
    "import matplotlib.pyplot as plt\n",
    "plt.figure()\n",
    "for j in range(4):\n",
    "        print j\n",
    "        plt.plot(ns_per_frame*lagtimes,[ns_per_frame*msmts[i][j] for i in range(len(lagtimes))])\n",
    "\n",
    "plt.xlabel('lagtime (ns)')\n",
    "plt.ylabel('implied timescale (ns)')\n",
    "plt.yscale('log')\n",
    "plt.savefig('lagtime_transform.pdf')\n",
    "plt.show()\n",
    "\n"
   ]
  }
 ],
 "metadata": {
  "kernelspec": {
   "display_name": "Python 2",
   "language": "python",
   "name": "python2"
  },
  "language_info": {
   "codemirror_mode": {
    "name": "ipython",
    "version": 2
   },
   "file_extension": ".py",
   "mimetype": "text/x-python",
   "name": "python",
   "nbconvert_exporter": "python",
   "pygments_lexer": "ipython2",
   "version": "2.7.6"
  }
 },
 "nbformat": 4,
 "nbformat_minor": 1
}
