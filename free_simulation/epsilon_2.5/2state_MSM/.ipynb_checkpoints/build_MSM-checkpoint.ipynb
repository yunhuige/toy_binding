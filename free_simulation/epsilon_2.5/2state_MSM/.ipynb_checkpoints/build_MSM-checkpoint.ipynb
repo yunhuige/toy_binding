{
 "cells": [
  {
   "cell_type": "code",
   "execution_count": 5,
   "metadata": {
    "collapsed": false
   },
   "outputs": [],
   "source": [
    "# import packages and tools\n",
    "import sys, os\n",
    "import numpy as np\n",
    "from numpy.linalg import eig\n",
    "from tools_box import *\n",
    "from estimators import *"
   ]
  },
  {
   "cell_type": "code",
   "execution_count": 13,
   "metadata": {
    "collapsed": false
   },
   "outputs": [
    {
     "name": "stdout",
     "output_type": "stream",
     "text": [
      "(20, 60001)\n"
     ]
    }
   ],
   "source": [
    "cm = np.load('total_converted.npy')\n",
    "print cm.shape\n",
    "nstates = 2"
   ]
  },
  {
   "cell_type": "code",
   "execution_count": 14,
   "metadata": {
    "collapsed": true
   },
   "outputs": [],
   "source": [
    "# create implied timescale files\n",
    "fout = open('implied_timescales.dat','w')\n",
    "header = '# tau(ns)\\tround\\timplied_timescale(ns)'\n",
    "#print header\n",
    "fout.write(header+'\\n')\n"
   ]
  },
  {
   "cell_type": "code",
   "execution_count": 15,
   "metadata": {
    "collapsed": true
   },
   "outputs": [],
   "source": [
    "# construct raw transition count matrix\n",
    "bootstrap = True\n",
    "r = 2   # 2 rounds of bootstrapping\n",
    "sm = 1  # 4 slow motions to compute\n",
    "\n"
   ]
  },
  {
   "cell_type": "code",
   "execution_count": 16,
   "metadata": {
    "collapsed": false
   },
   "outputs": [
    {
     "name": "stdout",
     "output_type": "stream",
     "text": [
      "[16 18 13 13 15 13  9  9 11  7 10  2  8  9  7 18  6  7  6 12]\n",
      "constructing transition count matrix...\n",
      "lagtime =  0.1 ns\n",
      "constructing transition probability matrix...\n",
      "computing eigenvalues and eigenvectors...\n",
      "lagtime =  1.0 ns\n",
      "constructing transition probability matrix...\n",
      "computing eigenvalues and eigenvectors...\n",
      "lagtime =  10.0 ns\n",
      "constructing transition probability matrix...\n",
      "computing eigenvalues and eigenvectors...\n",
      "lagtime =  15.0 ns\n",
      "constructing transition probability matrix...\n",
      "computing eigenvalues and eigenvectors...\n",
      "lagtime =  20.0 ns\n",
      "constructing transition probability matrix...\n",
      "computing eigenvalues and eigenvectors...\n",
      "lagtime =  30.0 ns\n",
      "constructing transition probability matrix...\n",
      "computing eigenvalues and eigenvectors...\n",
      "lagtime =  40.0 ns\n",
      "constructing transition probability matrix...\n",
      "computing eigenvalues and eigenvectors...\n",
      "lagtime =  50.0 ns\n",
      "constructing transition probability matrix...\n",
      "computing eigenvalues and eigenvectors...\n",
      "lagtime =  60.0 ns\n",
      "constructing transition probability matrix...\n",
      "computing eigenvalues and eigenvectors...\n",
      "lagtime =  100.0 ns\n",
      "constructing transition probability matrix...\n",
      "computing eigenvalues and eigenvectors...\n",
      "lagtime =  150.0 ns\n",
      "constructing transition probability matrix...\n",
      "computing eigenvalues and eigenvectors...\n",
      "lagtime =  200.0 ns\n",
      "constructing transition probability matrix...\n",
      "computing eigenvalues and eigenvectors...\n",
      "lagtime =  250.0 ns\n",
      "constructing transition probability matrix...\n",
      "computing eigenvalues and eigenvectors...\n",
      "lagtime =  300.0 ns\n",
      "constructing transition probability matrix...\n",
      "computing eigenvalues and eigenvectors...\n",
      "[18  4 10 11  3  8  1 15  9  2  5 13 14 14  8 17  2  5 15 12]\n",
      "constructing transition count matrix...\n",
      "lagtime =  0.1 ns\n",
      "constructing transition probability matrix...\n",
      "computing eigenvalues and eigenvectors...\n",
      "lagtime =  1.0 ns\n",
      "constructing transition probability matrix...\n",
      "computing eigenvalues and eigenvectors...\n",
      "lagtime =  10.0 ns\n",
      "constructing transition probability matrix...\n",
      "computing eigenvalues and eigenvectors...\n",
      "lagtime =  15.0 ns\n",
      "constructing transition probability matrix...\n",
      "computing eigenvalues and eigenvectors...\n",
      "lagtime =  20.0 ns\n",
      "constructing transition probability matrix...\n",
      "computing eigenvalues and eigenvectors...\n",
      "lagtime =  30.0 ns\n",
      "constructing transition probability matrix...\n",
      "computing eigenvalues and eigenvectors...\n",
      "lagtime =  40.0 ns\n",
      "constructing transition probability matrix...\n",
      "computing eigenvalues and eigenvectors...\n",
      "lagtime =  50.0 ns\n",
      "constructing transition probability matrix...\n",
      "computing eigenvalues and eigenvectors...\n",
      "lagtime =  60.0 ns\n",
      "constructing transition probability matrix...\n",
      "computing eigenvalues and eigenvectors...\n",
      "lagtime =  100.0 ns\n",
      "constructing transition probability matrix...\n",
      "computing eigenvalues and eigenvectors...\n",
      "lagtime =  150.0 ns\n",
      "constructing transition probability matrix...\n",
      "computing eigenvalues and eigenvectors...\n",
      "lagtime =  200.0 ns\n",
      "constructing transition probability matrix...\n",
      "computing eigenvalues and eigenvectors...\n",
      "lagtime =  250.0 ns\n",
      "constructing transition probability matrix...\n",
      "computing eigenvalues and eigenvectors...\n",
      "lagtime =  300.0 ns\n",
      "constructing transition probability matrix...\n",
      "computing eigenvalues and eigenvectors...\n",
      "Done!\n"
     ]
    },
    {
     "name": "stderr",
     "output_type": "stream",
     "text": [
      "/Users/yunhuige/anaconda/lib/python2.7/site-packages/ipykernel/__main__.py:29: RuntimeWarning: invalid value encountered in log\n"
     ]
    }
   ],
   "source": [
    "if (1):\n",
    "    if bootstrap:\n",
    "        for i in range(r):\n",
    "            new_cm = []   # create a new count matrix\n",
    "            traj = np.random.choice(cm.shape[0],cm.shape[0])   # randomly pick up 20 trajectories (sample with replacement)\n",
    "            print traj\n",
    "            for j in traj:\n",
    "                new_cm.append(cm[j])  \n",
    "            new_cm = np.array(new_cm) # make this new matrix in numpy array format\n",
    "\n",
    "            print \"constructing transition count matrix...\"\n",
    "            tau_values = [1,10,100,150,200,300,400,500,600,1000,1500,2000,2500,3000]  # lagtimes\n",
    "            for tau in tau_values:\n",
    "                tau_in_ns = tau*0.1   # tau is in unit of ns\n",
    "                print \"lagtime = \", tau_in_ns,'ns'\n",
    "                tcm = construct_raw_tcm(new_cm,tau,nstates)  # construct transition count matrix based on tau\n",
    "                tcm[tcm==0.] = 0.0000001   # add pseudocount if there is any zero count\n",
    "                np.save('raw_tcm_tau%d_r%d.npy'%(tau,i),tcm)    # saving\n",
    "                # construct transition probability matrix\n",
    "                print \"constructing transition probability matrix...\"\n",
    "#                tpm = construct_tpm(tcm)\n",
    "                tpm = MLE_tProb_reversible(tcm)    # using MLE estimators\n",
    "                np.save('tpm_%d.npy'%tau,tpm)\n",
    "                print \"computing eigenvalues and eigenvectors...\"\n",
    "                try:\n",
    "                    mu, eigenvectors = eig(tpm.transpose())    # compute eigenvalues and eigenvectors\n",
    "                    #print \"mu\", mu, \"eigenvectors\",eigenvectors\n",
    "                    for j in range(sm):\n",
    "                        implied_timescale_in_ns = -1.0*tau_in_ns/np.log(mu[j+1])   \n",
    "                        outstr = '%6.3f\\t%d\\t%6.3f'%(tau_in_ns, i, implied_timescale_in_ns)  # implied timescales for specific tau for ith round bootstrap\n",
    "                        #print 'writing data...'\n",
    "                        fout.write(outstr+'\\n')\n",
    "                except:\n",
    "                    'Skipped'\n",
    "                #fout.write(outstr+'\\n')\n",
    "        print \"Done!\"\n",
    "        fout.close()\n",
    "        \n",
    "    # if bootstrap is not used\n",
    "    else:\n",
    "        k = 1    # only 1 round \n",
    "        print \"constructing transition count matrix...\"\n",
    "        tau_values = [1,10,100,150,200,300,400,500,600,1000,1500,2000,2500,3000]\n",
    "        for tau in tau_values:\n",
    "            tau_in_ns = tau*0.1\n",
    "            print \"lagtime = \", tau_in_ns,'ns'\n",
    "            cm = 'clustered_matrix.npy'\n",
    "            tcm = construct_raw_tcm(cm,tau,nstates)\n",
    "            tcm[tcm==0.] = 0.0000001 \n",
    "            np.save('raw_tcm_%d.npy'%tau,tcm)\n",
    "            # construct transition probability matrix\n",
    "            print \"constructing transition probability matrix...\"\n",
    "#            tpm = construct_tpm(tcm)\n",
    "            tpm = MLE_tProb_reversible(tcm)\n",
    "            np.save('tpm_%d.npy'%tau,tpm)\n",
    "            print \"computing eigenvalues and eigenvectors...\"\n",
    "            try:\n",
    "                mu, eigenvectors = eig(tpm.transpose())\n",
    "              #  print \"mu\", mu, \"eigenvectors\",eigenvectors\n",
    "                for j in range(sm):\n",
    "                    implied_timescale_in_ns = -1.0*tau_in_ns/np.log(mu[j+1])\n",
    "                    outstr = '%6.3f\\t%d\\t%6.3f'%(tau_in_ns, k, implied_timescale_in_ns)\n",
    "                    fout.write(outstr+'\\n')\n",
    "            except:\n",
    "                'Skipped'\n",
    "        print \"Done!\"\n",
    "        fout.close()"
   ]
  },
  {
   "cell_type": "code",
   "execution_count": 17,
   "metadata": {
    "collapsed": false
   },
   "outputs": [
    {
     "name": "stdout",
     "output_type": "stream",
     "text": [
      "# tau(ns)\tround\timplied_timescale(ns)\n",
      "\n",
      " 0.100\t0\t 0.418\n",
      "\n",
      " 1.000\t0\t 1.832\n",
      "\n",
      "10.000\t0\t 3.308\n",
      "\n",
      "15.000\t0\t   nan\n",
      "\n",
      "20.000\t0\t   nan\n",
      "\n",
      "30.000\t0\t   nan\n",
      "\n",
      "40.000\t0\t   nan\n",
      "\n",
      "50.000\t0\t   nan\n",
      "\n",
      "60.000\t0\t   nan\n",
      "\n",
      "100.000\t0\t21.193\n",
      "\n",
      "150.000\t0\t   nan\n",
      "\n",
      "200.000\t0\t32.790\n",
      "\n",
      "250.000\t0\t   nan\n",
      "\n",
      "300.000\t0\t48.566\n",
      "\n",
      " 0.100\t1\t 0.422\n",
      "\n",
      " 1.000\t1\t 1.851\n",
      "\n",
      "10.000\t1\t 3.211\n",
      "\n",
      "15.000\t1\t 2.937\n",
      "\n",
      "20.000\t1\t 2.787\n",
      "\n",
      "30.000\t1\t   nan\n",
      "\n",
      "40.000\t1\t 6.607\n",
      "\n",
      "50.000\t1\t   nan\n",
      "\n",
      "60.000\t1\t   nan\n",
      "\n",
      "100.000\t1\t18.862\n",
      "\n",
      "150.000\t1\t   nan\n",
      "\n",
      "200.000\t1\t36.385\n",
      "\n",
      "250.000\t1\t   nan\n",
      "\n",
      "300.000\t1\t   nan\n",
      "\n"
     ]
    }
   ],
   "source": [
    "# show implied timescales file\n",
    "with open(\"implied_timescales.dat\") as f:\n",
    "        lines=f.readlines()\n",
    "for line in lines:\n",
    "    print line\n"
   ]
  },
  {
   "cell_type": "code",
   "execution_count": 18,
   "metadata": {
    "collapsed": false
   },
   "outputs": [
    {
     "name": "stdout",
     "output_type": "stream",
     "text": [
      "plotting figures...\n",
      "Done!\n"
     ]
    },
    {
     "name": "stderr",
     "output_type": "stream",
     "text": [
      "/Users/yunhuige/anaconda/lib/python2.7/site-packages/matplotlib/scale.py:101: RuntimeWarning: invalid value encountered in less_equal\n",
      "  a[a <= 0.0] = 1e-300\n"
     ]
    },
    {
     "data": {
      "image/png": "[encoded data removed]",
      "text/plain": [
       "<matplotlib.figure.Figure at 0x105b69a10>"
      ]
     },
     "metadata": {},
     "output_type": "display_data"
    }
   ],
   "source": [
    "# plot implied timescales\n",
    "print \"plotting figures...\"\n",
    "from matplotlib import pyplot as plt\n",
    "%matplotlib inline\n",
    "\n",
    "color=['red','blue','green','magenta']\n",
    "if bootstrap:\n",
    "    data = np.loadtxt('implied_timescales.dat')\n",
    "    tau_values = [1,10,100,150,200,300,400,500,600,1000,1500,2000,2500,3000]  # double check if this tau values are the same as above shown\n",
    "    lagtime=[[] for i in range(sm)]\n",
    "    implied=[[] for i in range(sm)]\n",
    "    err=[[] for i in range(sm)]\n",
    "    for j in range(sm):\n",
    "        for i in range(len(tau_values)):    # if this part is too hard to understand, I suggest load the implied timescales file in an ipython window and do these operation then it will be clear\n",
    "            lagtime[j].append(data[(j+i*sm)::len(tau_values)*sm][0][0])  # append lagtime for each slow motion\n",
    "            implied[j].append(np.mean(data[(j+i*sm)::len(tau_values)*sm][::,2]))  # append averaged implied timescale between different rounds bootstrapping for each lagtime\n",
    "            err[j].append(np.std(data[(j+i*sm)::len(tau_values)*sm][::,2]))      # append standard deviation of implied timescales between different round bootstrapping for each lagtime\n",
    "\n",
    "    for i in range(sm):\n",
    "        plt.plot(lagtime[i],implied[i],color=color[i])\n",
    "        plt.fill_between(lagtime[i],np.array(implied[i])+np.array(err[i]),np.array(implied[i])-np.array(err[i]),color=color[i],alpha=0.2)\n",
    "        plt.yscale('log')\n",
    "        plt.xlabel('lag time (ns)')\n",
    "        plt.ylabel('implied timescale (ns)')\n",
    "        plt.savefig('implied_timescale_%d.pdf'%nstates)\n",
    "    print 'Done!'\n",
    "\n",
    "else:\n",
    "    data = np.loadtxt('implied_timescales.dat')\n",
    "    lagtime=[[] for i in range(sm)]\n",
    "    implied=[[] for i in range(sm)]\n",
    "    err=[[] for i in range(sm)]\n",
    "    for j in range(sm):\n",
    "        for i in range(len(tau_values)):\n",
    "            lagtime[j].append(data[(j+i*sm)::len(tau_values)*sm][0][0])\n",
    "            implied[j].append(np.mean(data[(j+i*sm)::len(tau_values)*sm][::,2]))\n",
    "            err[j].append(np.std(data[(j+i*sm)::len(tau_values)*sm][::,2]))\n",
    "\n",
    "    for i in range(sm):\n",
    "        plt.plot(lagtime[i],implied[i],color=color[i])\n",
    "        plt.yscale('log')\n",
    "        plt.xlabel('lag time (ns)')\n",
    "        plt.ylabel('implied timescale (ns)')\n",
    "        plt.savefig('implied_timescale_%d.pdf'%nstates)\n",
    "    print 'Done!'\n"
   ]
  },
  {
   "cell_type": "code",
   "execution_count": null,
   "metadata": {
    "collapsed": true
   },
   "outputs": [],
   "source": []
  }
 ],
 "metadata": {
  "kernelspec": {
   "display_name": "Python 2",
   "language": "python",
   "name": "python2"
  },
  "language_info": {
   "codemirror_mode": {
    "name": "ipython",
    "version": 2
   },
   "file_extension": ".py",
   "mimetype": "text/x-python",
   "name": "python",
   "nbconvert_exporter": "python",
   "pygments_lexer": "ipython2",
   "version": "2.7.12"
  }
 },
 "nbformat": 4,
 "nbformat_minor": 0
}
