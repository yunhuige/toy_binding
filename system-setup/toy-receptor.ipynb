{
 "cells": [
  {
   "cell_type": "markdown",
   "metadata": {},
   "source": [
    "## Icosahedron coordinates\n",
    "\n",
    "The vertices of an icosahedron centered at the origin with an edge-length of 2 and a circumscribed sphere radius of $ 2\\sin(2\\pi/5)$ are described by circular permutations of\n",
    "\n",
    "$ (0, \\pm 1, \\pm  \\phi) $\n",
    "\n",
    "where $\\phi = (1 + \\sqrt{5})/2$.\n"
   ]
  },
  {
   "cell_type": "code",
   "execution_count": 109,
   "metadata": {
    "collapsed": true
   },
   "outputs": [],
   "source": [
    "import os, sys\n",
    "import numpy as np\n",
    "\n",
    "atoms = []\n",
    "\n",
    "UseSphereStacking = False\n",
    "UseIcosahedron = True\n",
    "\n",
    "if UseIcosahedron:\n",
    "    phi = (1.0 + (5.0)**0.5)/2.0\n",
    "\n",
    "    x = [0.0, 1.0, phi]\n",
    "    atoms.append( (x[0], x[1], x[2]) )\n",
    "    atoms.append( (x[0], -x[1], x[2]) )\n",
    "    atoms.append( (x[0], x[1], -x[2]) )\n",
    "    atoms.append( (x[0], -x[1], -x[2]) )\n",
    "\n",
    "    x = [1.0, phi, 0.0]\n",
    "    atoms.append( (x[0],  x[1], x[2]) )\n",
    "    atoms.append( (-x[0], x[1], x[2]) )\n",
    "    atoms.append( (x[0], -x[1], x[2]) )\n",
    "    atoms.append( (-x[0], -x[1], x[2]) )\n",
    "\n",
    "    x = [phi, 0.0, 1.0,]\n",
    "    atoms.append( (x[0],  x[1], x[2]) )\n",
    "    atoms.append( (-x[0], x[1], x[2]) )\n",
    "    atoms.append( (x[0], x[1], -x[2]) )\n",
    "    # atoms.append( (-x[0], x[1], -x[2]) )\n",
    "\n",
    "    # the last atom will not be connected to anything...\n",
    "    # put in the origin\n",
    "    atoms.append( (0., 0., 0.) )\n",
    "\n",
    "    \n",
    "\n",
    "    \n",
    "else:\n",
    "\n",
    "    a = 0.15  # radius (in nm)\n",
    "    h = a*(2.0/3.0)**0.5 # height of a tetrahedron \n",
    "\n",
    "    # middle row, on x-y plane\n",
    "    for angle in np.arange(np.pi/3.0, 5.0*np.pi/3.0, np.pi/3.0):\n",
    "        atoms.append( (a*np.cos(angle), a*np.sin(angle), 0.) )\n",
    "\n",
    "    # top row\n",
    "    if (1):\n",
    "        atoms.append(   (0.5*a, np.sqrt(3.0)/6.0*a, h) )\n",
    "        atoms.append(   (-0.5*a, np.sqrt(3.0)/6.0*a, h) )\n",
    "        atoms.append(   (0, -1.0/np.sqrt(3.0)*a, h) )\n",
    "\n",
    "    # bottom row\n",
    "    if (1):\n",
    "        atoms.append(   (-0.5*a, -np.sqrt(3.0)/6.0*a, -h) )\n",
    "        atoms.append(   (0.5*a, -np.sqrt(3.0)/6.0*a, -h) )\n",
    "        atoms.append(   (0, 1.0/np.sqrt(3.0)*a, -h) )\n",
    "\n",
    "            \n",
    "    atoms = np.array( atoms )\n",
    "\n",
    "\n",
    "    \n"
   ]
  },
  {
   "cell_type": "markdown",
   "metadata": {},
   "source": [
    "### What size should the pocket be to maximize vdW interactions?\n",
    "\n",
    "Gromacs defines the Lennard-Jones potential using the $\\sigma$ (nm) and $\\epsilon$ (kJ/mol) parameters:\n",
    "\n",
    "$V_{LJ}(r) = 4\\epsilon \\big( \\big( \\frac{\\sigma}{r} \\big)^{12} - \\big(\\frac{\\sigma}{r}\\big)^6 \\big) $ \n",
    "\n",
    "The minimum of this curve can be found by taking its derivative and setting to zero\n",
    "\n",
    "$ \\frac{dV_{LJ}(r)}{dr} = 4\\epsilon \\big( 12 \\big( \\frac{\\sigma}{r} \\big)^{11} - 6 \\big( \\frac{\\sigma}{r} \\big)^{5} \\big)(-\\sigma/r^2)  = 0$\n",
    "\n",
    "$ 12 \\big( \\frac{\\sigma}{r} \\big)^{6} = 6$\n",
    "\n",
    "$ \\big( \\frac{r}{\\sigma} \\big)^{6} = 2$\n",
    "\n",
    "$ \\big( \\frac{r}{\\sigma} \\big) = 2^{1/6}$\n",
    "\n",
    "\n",
    "$ r = \\sigma 2^{1/6} \\approx 1.122462048 \\sigma$.\n",
    "\n",
    "Let's double-check that this is true...."
   ]
  },
  {
   "cell_type": "code",
   "execution_count": 110,
   "metadata": {
    "collapsed": false
   },
   "outputs": [
    {
     "data": {
      "text/plain": [
       "<matplotlib.text.Text at 0x109a5ad10>"
      ]
     },
     "execution_count": 110,
     "metadata": {},
     "output_type": "execute_result"
    },
    {
     "data": {
      "image/png": "[encoded data removed]",
      "text/plain": [
       "<matplotlib.figure.Figure at 0x107d6ee90>"
      ]
     },
     "metadata": {},
     "output_type": "display_data"
    }
   ],
   "source": [
    "# LJ parameters for the carbon atom in AMBER\n",
    "sigma = 3.39967e-01    # nm\n",
    "epsilon = 4.57730e-01  # kJ/mol\n",
    "\n",
    "r = np.arange(0.95*sigma, 2.0*sigma, 0.01)\n",
    "V_LJ = 4.0*epsilon*( (sigma/r)**12.0 - (sigma/r)**6.0 )\n",
    "\n",
    "r_min = 1.122462048*sigma\n",
    "V_min = 4.0*epsilon*( (sigma/r_min)**12.0 - (sigma/r_min)**6.0 )\n",
    "\n",
    "\n",
    "%matplotlib inline\n",
    "from matplotlib import pyplot as plt\n",
    "plt.plot(r,V_LJ,'-')\n",
    "plt.plot(r_min,V_min,'b*')\n",
    "plt.xlabel('radius (nm)')\n",
    "plt.ylabel('$V_{LJ}(r)$ (kJ/mol)')"
   ]
  },
  {
   "cell_type": "code",
   "execution_count": 111,
   "metadata": {
    "collapsed": false
   },
   "outputs": [
    {
     "name": "stdout",
     "output_type": "stream",
     "text": [
      "New bond length: 0.401238042676 nm\n"
     ]
    }
   ],
   "source": [
    "## So, to match up the ligand to the LJ potential, the radius needs\n",
    "## to be scaled to r_min = 1.122462048*sigma\n",
    "\n",
    "r_min = 1.122462048*sigma\n",
    "\n",
    "# scale all the coordinates to maximize LJ\n",
    "icosahedron_radius = 2.0*np.sin(2.0*np.pi/5.0)\n",
    "atoms = np.array( atoms )*r_min/icosahedron_radius\n",
    "\n",
    "# the bond length that needs to be enforced needs to be scaled accordingly:\n",
    "bond_length = 2.0*r_min/icosahedron_radius\n",
    "print 'New bond length:', bond_length, 'nm'\n"
   ]
  },
  {
   "cell_type": "code",
   "execution_count": 112,
   "metadata": {
    "collapsed": false
   },
   "outputs": [
    {
     "data": {
      "image/png": "[encoded data removed]",
      "text/plain": [
       "<matplotlib.figure.Figure at 0x107914090>"
      ]
     },
     "metadata": {},
     "output_type": "display_data"
    }
   ],
   "source": [
    "%matplotlib inline\n",
    "from matplotlib import pyplot as plt\n",
    "\n",
    "from mpl_toolkits.mplot3d import Axes3D\n",
    "\n",
    "fig = plt.figure()\n",
    "ax = fig.add_subplot(111, projection='3d')\n",
    "\n",
    "ax.scatter(atoms[:,0], atoms[:,1], atoms[:,2], c='r', marker='o')\n",
    "#plt.figure( figsize=(5.5,5))\n",
    "\n",
    "#for atom in atoms:\n",
    "#    plt.plot(atom[0],atom[1],'o')\n",
    "plt.tight_layout()"
   ]
  },
  {
   "cell_type": "code",
   "execution_count": 113,
   "metadata": {
    "collapsed": false
   },
   "outputs": [
    {
     "name": "stdout",
     "output_type": "stream",
     "text": [
      "ATOM      1  C1  DUM A   1       0.000   2.006   3.246  1.00  0.00           C\n",
      "ATOM      2  C2  DUM A   1       0.000  -2.006   3.246  1.00  0.00           C\n",
      "ATOM      3  C3  DUM A   1       0.000   2.006  -3.246  1.00  0.00           C\n",
      "ATOM      4  C4  DUM A   1       0.000  -2.006  -3.246  1.00  0.00           C\n",
      "ATOM      5  C5  DUM A   1       2.006   3.246   0.000  1.00  0.00           C\n",
      "ATOM      6  C6  DUM A   1      -2.006   3.246   0.000  1.00  0.00           C\n",
      "ATOM      7  C7  DUM A   1       2.006  -3.246   0.000  1.00  0.00           C\n",
      "ATOM      8  C8  DUM A   1      -2.006  -3.246   0.000  1.00  0.00           C\n",
      "ATOM      9  C9  DUM A   1       3.246   0.000   2.006  1.00  0.00           C\n",
      "ATOM     10  C10 DUM A   1      -3.246   0.000   2.006  1.00  0.00           C\n",
      "ATOM     11  C11 DUM A   1       3.246   0.000  -2.006  1.00  0.00           C\n",
      "ATOM     12  C12 DUM A   1       0.000   0.000   0.000  1.00  0.00           C\n"
     ]
    }
   ],
   "source": [
    "# write a PDB file\n",
    "\n",
    "fout = open('test.pdb','w')\n",
    "\n",
    "natoms = atoms.shape[0]\n",
    "for i in range(natoms):\n",
    "    x,y,z =  atoms[i,:]*10.0  # convert from nm to Angstrom\n",
    "    outstr = 'ATOM     %2d  C%-2d DUM A   1     %7.3f %7.3f %7.3f  1.00  0.00           C'%(i+1,i+1,x,y,z) \n",
    "    print outstr\n",
    "    fout.write(outstr+'\\n')\n",
    "\n",
    "fout.write('TER\\nEND\\n')\n",
    "fout.close()\n",
    "\n",
    "example_for_reference = \"\"\"\n",
    "ATOM      1  N   GLY A   1       1.260  26.360  21.910  1.00  0.00           N  \n",
    "ATOM      2  H   GLY A   1       1.020  25.410  21.670  1.00  0.00           H  \n",
    "ATOM      3  H2  GLY A   1       1.190  26.380  22.920  1.00  0.00           H  \n",
    "\"\"\""
   ]
  },
  {
   "cell_type": "code",
   "execution_count": 118,
   "metadata": {
    "collapsed": false
   },
   "outputs": [
    {
     "name": "stdout",
     "output_type": "stream",
     "text": [
      "1 2 7 0.401238042676 0.401238042676 theta 108.0\n",
      "1 2 8 0.401238042676 0.401238042676 theta 108.0\n",
      "1 5 11 0.401238042676 0.401238042676 theta 108.0\n",
      "1 9 11 0.401238042676 0.401238042676 theta 108.0\n",
      "2 7 11 0.401238042676 0.401238042676 theta 108.0\n",
      "2 9 11 0.401238042676 0.401238042676 theta 108.0\n",
      "3 4 7 0.401238042676 0.401238042676 theta 108.0\n",
      "3 4 8 0.401238042676 0.401238042676 theta 108.0\n",
      "3 5 9 0.401238042676 0.401238042676 theta 108.0\n",
      "3 6 10 0.401238042676 0.401238042676 theta 108.0\n",
      "4 7 9 0.401238042676 0.401238042676 theta 108.0\n",
      "4 8 10 0.401238042676 0.401238042676 theta 108.0\n",
      "5 6 10 0.401238042676 0.401238042676 theta 108.0\n",
      "7 8 10 0.401238042676 0.401238042676 theta 108.0\n"
     ]
    }
   ],
   "source": [
    "# Make a Gromacs gmx5 topology file\n",
    "outfile = 'pocket.top'\n",
    "\n",
    "toptext = \"\"\";\n",
    ";       Topology file the pocket\n",
    ";\n",
    "; The force-field files to be included\n",
    "#include \"amber99sbnmr1-ildn.ff/forcefield.itp\"\n",
    "\n",
    ";[ defaults ]\n",
    "; nbfunc        comb-rule       gen-pairs       fudgeLJ fudgeQQ\n",
    ";1               2               yes             0.5     0.8333\n",
    "\n",
    "[ atomtypes ]\n",
    "; name      at.num  mass     charge ptype  sigma      epsilon\n",
    "LJ           6      12.01    0.0000  A   3.39967e-01  4.57730e-01  ; copied from amber LJ\n",
    "\n",
    "[ bondtypes ]\n",
    "; i    j  func       b0          kb\n",
    "  LJ LJ         1    %1.5f   259408.0 ; 7,(1986),230; AA, SUGARS\n",
    "\n",
    "\n",
    "[ angletypes ]\n",
    ";  i    j    k  func       th0       cth\n",
    "LJ  LJ  LJ           1   108.000    150.0 ;  wide icosahedron angle IMPORTANT!\n",
    "\n",
    "[ dihedraltypes ]\n",
    ";i   j   k   l     func\n",
    " LJ  LJ  LJ  LJ    9       0.0      0.75312     3  ; Junmei et al, 1999\n",
    " LJ  LJ  LJ  LJ    9     180.0      1.04600     2  ; Junmei et al, 1999\n",
    " LJ  LJ  LJ  LJ    9     180.0      0.83680     1  ; Junmei et al, 1999\n",
    "\n",
    "\n",
    "[ moleculetype ]\n",
    "; name  nrexcl\n",
    "Pocket         3\n",
    "\n",
    "[ atoms ]\n",
    "\"\"\"%bond_length\n",
    "\n",
    "for i in range(natoms):\n",
    "    toptext += \"   %-2d LJ  1  DUM       C%-2d    %-2d    0.000000  12.01000   ; amber C  type\\n\"%(i+1,i+1,i+1)\n",
    "toptext += '\\n'\n",
    "    \n",
    "toptext += '[ bonds ]\\n'\n",
    "toptext += ';  ai   aj   funct   \\n'\n",
    "# Loop through all unique pairs of atoms \n",
    "npocket_atoms = natoms-1\n",
    "for i in range(npocket_atoms-1):\n",
    "    for j in range(i+1,npocket_atoms):\n",
    "        \n",
    "        # calculate the distance between the atoms\n",
    "        r = atoms[i,:] - atoms[j,:]\n",
    "        distance = np.sqrt( np.dot(r,r) )\n",
    "        \n",
    "        # only create bonds for atoms closer than the bond cutoff\n",
    "        bond_cutoff = bond_length + 0.05 # nm\n",
    "        if distance < bond_cutoff:\n",
    "            toptext += '    %d  %d    1\\n'%(i+1,j+1)\n",
    "toptext += '\\n'    \n",
    "\n",
    "if UseIcosahedron:\n",
    "    toptext += '[ angles ]\\n'\n",
    "    toptext += ';  ai   aj   ak     funct   \\n'   \n",
    "    # Loop through all unique triples of pocket atoms \n",
    "    for i in range(npocket_atoms-2):\n",
    "        for j in range(i+1,npocket_atoms-1):\n",
    "            for k in range(j+1,npocket_atoms):\n",
    "                # calculate the angle between the atoms\n",
    "                r_ji = atoms[i,:] - atoms[j,:] \n",
    "                r_jk = atoms[k,:] - atoms[j,:]\n",
    "                distance_ji= np.sqrt( np.dot(r_ji,r_ji) )\n",
    "                distance_jk = np.sqrt( np.dot(r_jk,r_jk) )\n",
    "                cos_theta = np.dot(r_ji,r_jk)/(distance_ji*distance_jk)\n",
    "                theta = np.arccos( cos_theta )*180/np.pi\n",
    "                            \n",
    "                # only create bonds for atoms closer than the bond cutoff\n",
    "                if distance_ji < bond_cutoff:\n",
    "                    if distance_jk < bond_cutoff:\n",
    "                        # only reinforce wide icosahedron angles ~144 deg\n",
    "                        if np.abs(theta - 108.0) < 2.0: # 2 deg tolerance                           \n",
    "                            print i+1,j+1,k+1, distance_ji, distance_jk, 'theta', theta\n",
    "                            toptext += '    %d  %d  %d    1\\n'%(i+1,j+1,k+1)\n",
    "    toptext += '\\n'    \n",
    "\n",
    "\n",
    "toptext += '; Include water topology\\n'\n",
    "toptext += '#include \"amber99sbnmr1-ildn.ff/tip3p.itp\"\\n'\n",
    "toptext += '\\n'  \n",
    "\n",
    "toptext += '; Include ion topology\\n'\n",
    "toptext += '#include \"amber99sbnmr1-ildn.ff/ions.itp\"\\n'\n",
    "toptext += '\\n'  \n",
    "\n",
    "\n",
    "toptext += '[ system ]\\n'\n",
    "toptext += 'Pocket in Water\\n'\n",
    "toptext += '\\n'  \n",
    "\n",
    "\n",
    "toptext += '[ molecules ]\\n'\n",
    "toptext += ';molecule name   nr.\\n'\n",
    "toptext += 'Pocket             1\\n'\n",
    "\n",
    "        \n",
    "fout = open(outfile,'w')\n",
    "fout.write(toptext)\n",
    "fout.close()\n"
   ]
  },
  {
   "cell_type": "code",
   "execution_count": null,
   "metadata": {
    "collapsed": true
   },
   "outputs": [],
   "source": []
  },
  {
   "cell_type": "code",
   "execution_count": null,
   "metadata": {
    "collapsed": true
   },
   "outputs": [],
   "source": []
  },
  {
   "cell_type": "code",
   "execution_count": null,
   "metadata": {
    "collapsed": true
   },
   "outputs": [],
   "source": []
  }
 ],
 "metadata": {
  "kernelspec": {
   "display_name": "Python 2",
   "language": "python",
   "name": "python2"
  },
  "language_info": {
   "codemirror_mode": {
    "name": "ipython",
    "version": 2
   },
   "file_extension": ".py",
   "mimetype": "text/x-python",
   "name": "python",
   "nbconvert_exporter": "python",
   "pygments_lexer": "ipython2",
   "version": "2.7.12"
  }
 },
 "nbformat": 4,
 "nbformat_minor": 0
}
