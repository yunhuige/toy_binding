{
 "cells": [
  {
   "cell_type": "code",
   "execution_count": 12,
   "metadata": {},
   "outputs": [
    {
     "name": "stdout",
     "output_type": "stream",
     "text": [
      "['C1', 'C2', 'C3', 'C4', 'C5', 'C6', 'C7', 'C8', 'C9', 'C10', 'C11', 'C12']\n"
     ]
    }
   ],
   "source": [
    "# First, let's print out the PDB to get the names of the atoms straight\n",
    "\n",
    "\"\"\"\n",
    "CRYST1    0.000    0.000    0.000  90.00  90.00  90.00 P 1           1\n",
    "ATOM      1  C1  DUM A   1       2.761   2.006  -1.706  1.00  0.00           C\n",
    "ATOM      2  C2  DUM A   1       2.761  -2.006  -1.706  1.00  0.00           C\n",
    "ATOM      3  C3  DUM A   1      -2.761   2.006   1.706  1.00  0.00           C\n",
    "ATOM      4  C4  DUM A   1      -2.761  -2.006   1.706  1.00  0.00           C\n",
    "ATOM      5  C5  DUM A   1      -1.055   3.246  -1.706  1.00  0.00           C\n",
    "ATOM      6  C6  DUM A   1       1.055   3.246   1.706  1.00  0.00           C\n",
    "ATOM      7  C7  DUM A   1      -1.055  -3.246  -1.706  1.00  0.00           C\n",
    "ATOM      8  C8  DUM A   1       1.055  -3.246   1.706  1.00  0.00           C\n",
    "ATOM      9  C9  DUM A   1       0.000   0.000  -3.816  1.00  0.00           C\n",
    "ATOM     10  C10 DUM A   1       3.413   0.000   1.707  1.00  0.00           C\n",
    "ATOM     11  C11 DUM A   1      -3.413   0.000  -1.707  1.00  0.00           C\n",
    "ATOM     12  C12 DUM A   1       0.000   0.000   0.000  1.00  0.00           C <--- this is the ligand\n",
    "END\n",
    "\"\"\"\n",
    "\n",
    "import numpy as np\n",
    "import mdtraj as md\n",
    "\n",
    "# read in a single-frame \"trajectory\" of the pdbfile and get the atom names\n",
    "t = md.load_pdb('new_test.pdb')\n",
    "topology = t.topology\n",
    "table, bonds = topology.to_dataframe()\n",
    "atom_names = [table['name'][i] for i in range(t.n_atoms)]\n",
    "print(atom_names)"
   ]
  },
  {
   "cell_type": "code",
   "execution_count": null,
   "metadata": {},
   "outputs": [],
   "source": [
    "# Next, we put together a list of icosahedron vertex triples that define each face\n",
    "triangle_faces = [ ['C8', 'C10', 'C2'],\n",
    "                   ['C10', 'C2', 'C1'] ]\n",
    "\n",
    "# the entrace to the binding pocket is a pentagonal face\n",
    "pentagonal_face = ['C3', 'C4', 'C8', 'C10', 'C6']"
   ]
  }
 ],
 "metadata": {
  "kernelspec": {
   "display_name": "Python 3",
   "language": "python",
   "name": "python3"
  },
  "language_info": {
   "codemirror_mode": {
    "name": "ipython",
    "version": 3
   },
   "file_extension": ".py",
   "mimetype": "text/x-python",
   "name": "python",
   "nbconvert_exporter": "python",
   "pygments_lexer": "ipython3",
   "version": "3.7.3"
  }
 },
 "nbformat": 4,
 "nbformat_minor": 2
}
